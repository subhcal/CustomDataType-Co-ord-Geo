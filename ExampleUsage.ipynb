{
 "cells": [
  {
   "cell_type": "code",
   "execution_count": 7,
   "id": "1df04ef9-ece1-4c88-b167-33a15fdbe8c5",
   "metadata": {},
   "outputs": [],
   "source": [
    "from CoGeo import Coordinate"
   ]
  },
  {
   "cell_type": "code",
   "execution_count": 8,
   "id": "934d3bf7-1983-46b1-b20b-0e6c8419736e",
   "metadata": {},
   "outputs": [
    {
     "name": "stdout",
     "output_type": "stream",
     "text": [
      "Point 1: Coordinate(1, 2)\n",
      "Point 2: Coordinate(4, 6)\n",
      "Point 1 + Point 2: Coordinate(5, 8)\n",
      "Point 2 - Point 1: Coordinate(3, 4)\n",
      "Distance between Point 1 and Point 2: 5.0\n",
      "Midpoint between Point 1 and Point 2: Coordinate(2.5, 4.0)\n",
      "Slope between Point 1 and Point 2: 1.3333333333333333\n"
     ]
    }
   ],
   "source": [
    "    point1 = Coordinate(1, 2)\n",
    "    point2 = Coordinate(4, 6)\n",
    "\n",
    "    print(\"Point 1:\", point1)\n",
    "    print(\"Point 2:\", point2)\n",
    "\n",
    "    # Addition\n",
    "    point3 = point1 + point2\n",
    "    print(\"Point 1 + Point 2:\", point3)\n",
    "\n",
    "    # Subtraction\n",
    "    point4 = point2 - point1\n",
    "    print(\"Point 2 - Point 1:\", point4)\n",
    "\n",
    "    # Distance\n",
    "    distance = point1.distance_to(point2)\n",
    "    print(\"Distance between Point 1 and Point 2:\", distance)\n",
    "\n",
    "    # Midpoint\n",
    "    midpoint = point1.midpoint(point2)\n",
    "    print(\"Midpoint between Point 1 and Point 2:\", midpoint)\n",
    "\n",
    "    # Slope\n",
    "    slope = point1.slope(point2)\n",
    "    print(\"Slope between Point 1 and Point 2:\", slope)"
   ]
  },
  {
   "cell_type": "code",
   "execution_count": null,
   "id": "3b3ff5a1-8fca-40e3-9d69-a40f299f81db",
   "metadata": {},
   "outputs": [],
   "source": []
  }
 ],
 "metadata": {
  "kernelspec": {
   "display_name": "Python 3 (ipykernel)",
   "language": "python",
   "name": "python3"
  },
  "language_info": {
   "codemirror_mode": {
    "name": "ipython",
    "version": 3
   },
   "file_extension": ".py",
   "mimetype": "text/x-python",
   "name": "python",
   "nbconvert_exporter": "python",
   "pygments_lexer": "ipython3",
   "version": "3.13.7"
  }
 },
 "nbformat": 4,
 "nbformat_minor": 5
}
